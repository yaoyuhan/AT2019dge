{
 "cells": [
  {
   "cell_type": "code",
   "execution_count": 1,
   "metadata": {},
   "outputs": [],
   "source": [
    "import pandas as pd\n",
    "import numpy as np\n",
    "from copy import deepcopy\n",
    "import numpy.polynomial.polynomial as mypoly"
   ]
  },
  {
   "cell_type": "code",
   "execution_count": 53,
   "metadata": {},
   "outputs": [],
   "source": [
    "import matplotlib\n",
    "import matplotlib.pyplot as plt\n",
    "fs = 14\n",
    "matplotlib.rcParams['font.size']=fs"
   ]
  },
  {
   "cell_type": "markdown",
   "metadata": {},
   "source": [
    "### 1. Load light curves"
   ]
  },
  {
   "cell_type": "code",
   "execution_count": 3,
   "metadata": {},
   "outputs": [],
   "source": [
    "lcp48 = pd.read_csv(\"../data/photometry/P48/detection.csv\")\n",
    "lcp48 = lcp48.rename(columns={'mag_unc': 'emag'})\n",
    "lcp48[\"instrument\"] = \"P48\"\n",
    "filters = np.array([\" \"]*len(lcp48))\n",
    "filterids = lcp48[\"filterid\"].values\n",
    "filters[filterids==1] = 'g'\n",
    "filters[filterids==2] = 'r'\n",
    "filters[filterids==3] = 'i'\n",
    "lcp48[\"filter\"] = filters\n",
    "lcp48 = lcp48.drop(columns = [\"Fratio\", \"Fratio_unc\", \"filterid\"])\n",
    "lcp60lt = pd.read_csv(\"../data/photometry/LT+P60/phot.csv\")\n",
    "lcp60lt = lcp60lt.drop(columns=[\"limmag\"])\n",
    "np.unique(lcp60lt[\"instrument\"])\n",
    "lclt = deepcopy(lcp60lt[lcp60lt.instrument == \"LT+IOO\"])\n",
    "lcp60 = deepcopy(lcp60lt[lcp60lt.instrument == \"P60+SEDM\"])\n",
    "\n",
    "lcuvot = pd.read_csv(\"../data/photometry/Swift/phot.csv\")\n",
    "lcuvot = lcuvot.drop(columns = [\"limmag\"])\n",
    "\n",
    "new_row = {'filter':'u', 'mag':18.45, 'emag':0.03, 'instrument':\"LT+IOO\", \"mjd\": 2458582.6560-2400000.5}\n",
    "lclt = lclt.append(new_row, ignore_index=True)\n",
    "new_row = {'filter':'u', 'mag':18.32, 'emag':0.03, 'instrument':\"LT+IOO\", \"mjd\": 2458583.6654-2400000.5}\n",
    "lclt = lclt.append(new_row, ignore_index=True)\n",
    "new_row = {'filter':'u', 'mag':18.57, 'emag':0.02, 'instrument':\"LT+IOO\", \"mjd\": 2458584.7341-2400000.5}\n",
    "lclt = lclt.append(new_row, ignore_index=True)"
   ]
  },
  {
   "cell_type": "code",
   "execution_count": 4,
   "metadata": {},
   "outputs": [
    {
     "data": {
      "text/html": [
       "<div>\n",
       "<style scoped>\n",
       "    .dataframe tbody tr th:only-of-type {\n",
       "        vertical-align: middle;\n",
       "    }\n",
       "\n",
       "    .dataframe tbody tr th {\n",
       "        vertical-align: top;\n",
       "    }\n",
       "\n",
       "    .dataframe thead th {\n",
       "        text-align: right;\n",
       "    }\n",
       "</style>\n",
       "<table border=\"1\" class=\"dataframe\">\n",
       "  <thead>\n",
       "    <tr style=\"text-align: right;\">\n",
       "      <th></th>\n",
       "      <th>filter</th>\n",
       "      <th>mag</th>\n",
       "      <th>emag</th>\n",
       "      <th>instrument</th>\n",
       "      <th>mjd</th>\n",
       "    </tr>\n",
       "  </thead>\n",
       "  <tbody>\n",
       "    <tr>\n",
       "      <th>0</th>\n",
       "      <td>g</td>\n",
       "      <td>18.59</td>\n",
       "      <td>0.01</td>\n",
       "      <td>LT+IOO</td>\n",
       "      <td>58582.1544</td>\n",
       "    </tr>\n",
       "    <tr>\n",
       "      <th>1</th>\n",
       "      <td>r</td>\n",
       "      <td>18.84</td>\n",
       "      <td>0.02</td>\n",
       "      <td>LT+IOO</td>\n",
       "      <td>58582.1552</td>\n",
       "    </tr>\n",
       "    <tr>\n",
       "      <th>2</th>\n",
       "      <td>i</td>\n",
       "      <td>19.11</td>\n",
       "      <td>0.02</td>\n",
       "      <td>LT+IOO</td>\n",
       "      <td>58582.1575</td>\n",
       "    </tr>\n",
       "    <tr>\n",
       "      <th>3</th>\n",
       "      <td>z</td>\n",
       "      <td>19.28</td>\n",
       "      <td>0.07</td>\n",
       "      <td>LT+IOO</td>\n",
       "      <td>58582.1583</td>\n",
       "    </tr>\n",
       "    <tr>\n",
       "      <th>4</th>\n",
       "      <td>g</td>\n",
       "      <td>18.48</td>\n",
       "      <td>0.02</td>\n",
       "      <td>LT+IOO</td>\n",
       "      <td>58583.1637</td>\n",
       "    </tr>\n",
       "    <tr>\n",
       "      <th>...</th>\n",
       "      <td>...</td>\n",
       "      <td>...</td>\n",
       "      <td>...</td>\n",
       "      <td>...</td>\n",
       "      <td>...</td>\n",
       "    </tr>\n",
       "    <tr>\n",
       "      <th>57</th>\n",
       "      <td>i</td>\n",
       "      <td>21.10</td>\n",
       "      <td>0.12</td>\n",
       "      <td>LT+IOO</td>\n",
       "      <td>58611.1759</td>\n",
       "    </tr>\n",
       "    <tr>\n",
       "      <th>58</th>\n",
       "      <td>z</td>\n",
       "      <td>20.72</td>\n",
       "      <td>0.21</td>\n",
       "      <td>LT+IOO</td>\n",
       "      <td>58611.1767</td>\n",
       "    </tr>\n",
       "    <tr>\n",
       "      <th>59</th>\n",
       "      <td>u</td>\n",
       "      <td>18.45</td>\n",
       "      <td>0.03</td>\n",
       "      <td>LT+IOO</td>\n",
       "      <td>58582.1560</td>\n",
       "    </tr>\n",
       "    <tr>\n",
       "      <th>60</th>\n",
       "      <td>u</td>\n",
       "      <td>18.32</td>\n",
       "      <td>0.03</td>\n",
       "      <td>LT+IOO</td>\n",
       "      <td>58583.1654</td>\n",
       "    </tr>\n",
       "    <tr>\n",
       "      <th>61</th>\n",
       "      <td>u</td>\n",
       "      <td>18.57</td>\n",
       "      <td>0.02</td>\n",
       "      <td>LT+IOO</td>\n",
       "      <td>58584.2341</td>\n",
       "    </tr>\n",
       "  </tbody>\n",
       "</table>\n",
       "<p>62 rows × 5 columns</p>\n",
       "</div>"
      ],
      "text/plain": [
       "   filter    mag  emag instrument         mjd\n",
       "0       g  18.59  0.01     LT+IOO  58582.1544\n",
       "1       r  18.84  0.02     LT+IOO  58582.1552\n",
       "2       i  19.11  0.02     LT+IOO  58582.1575\n",
       "3       z  19.28  0.07     LT+IOO  58582.1583\n",
       "4       g  18.48  0.02     LT+IOO  58583.1637\n",
       "..    ...    ...   ...        ...         ...\n",
       "57      i  21.10  0.12     LT+IOO  58611.1759\n",
       "58      z  20.72  0.21     LT+IOO  58611.1767\n",
       "59      u  18.45  0.03     LT+IOO  58582.1560\n",
       "60      u  18.32  0.03     LT+IOO  58583.1654\n",
       "61      u  18.57  0.02     LT+IOO  58584.2341\n",
       "\n",
       "[62 rows x 5 columns]"
      ]
     },
     "execution_count": 4,
     "metadata": {},
     "output_type": "execute_result"
    }
   ],
   "source": [
    "lclt"
   ]
  },
  {
   "cell_type": "markdown",
   "metadata": {},
   "source": [
    "### 2. Attach effective wavelength"
   ]
  },
  {
   "cell_type": "code",
   "execution_count": 5,
   "metadata": {},
   "outputs": [],
   "source": [
    "from helper.readfilter import see_filters"
   ]
  },
  {
   "cell_type": "code",
   "execution_count": 6,
   "metadata": {},
   "outputs": [
    {
     "data": {
      "image/png": "[encoded data removed]",
      "text/plain": [
       "<Figure size 504x504 with 1 Axes>"
      ]
     },
     "metadata": {
      "needs_background": "light"
     },
     "output_type": "display_data"
    }
   ],
   "source": [
    "see_filters()"
   ]
  },
  {
   "cell_type": "code",
   "execution_count": 7,
   "metadata": {},
   "outputs": [],
   "source": [
    "from helper.readfilter import get_ZTF_eff_wave, get_LT_eff_wave, get_UVOT_eff_wave, get_P60_eff_wave"
   ]
  },
  {
   "cell_type": "markdown",
   "metadata": {},
   "source": [
    "#### Swift / UVOT"
   ]
  },
  {
   "cell_type": "code",
   "execution_count": 8,
   "metadata": {},
   "outputs": [],
   "source": [
    "wvU, xU, yU = get_UVOT_eff_wave(\"Swift_UVOT.U.dat\", return_type = 'more')\n",
    "wvB, xB, yB = get_UVOT_eff_wave(\"Swift_UVOT.B.dat\", return_type = 'more')\n",
    "wvV, xV, yV = get_UVOT_eff_wave(\"Swift_UVOT.V.dat\", return_type = 'more')\n",
    "wvUW1, xUVW1, yUVW1 = get_UVOT_eff_wave(\"Swift_UVOT.UVW1.dat\", return_type = 'more')\n",
    "wvUW2, xUVW2, yUVW2 = get_UVOT_eff_wave(\"Swift_UVOT.UVW2.dat\", return_type = 'more')\n",
    "wvUM2, xUVM2, yUVM2 = get_UVOT_eff_wave(\"Swift_UVOT.UVM2.dat\", return_type = 'more')\n",
    "#print (wvUW2, wvUM2, wvUW1, wvU, wvB, wvV)\n",
    "\n",
    "lcuvot['wave'] = np.zeros(len(lcuvot))\n",
    "lcuvot['wave'].values[lcuvot[\"filter\"].values==\"B\"] = wvB\n",
    "lcuvot['wave'].values[lcuvot[\"filter\"].values==\"U\"] = wvU\n",
    "lcuvot['wave'].values[lcuvot[\"filter\"].values==\"V\"] = wvV\n",
    "lcuvot['wave'].values[lcuvot[\"filter\"].values==\"UVM2\"] = wvUM2\n",
    "lcuvot['wave'].values[lcuvot[\"filter\"].values==\"UVW1\"] = wvUW1\n",
    "lcuvot['wave'].values[lcuvot[\"filter\"].values==\"UVW2\"] = wvUW2"
   ]
  },
  {
   "cell_type": "markdown",
   "metadata": {},
   "source": [
    "#### P48"
   ]
  },
  {
   "cell_type": "code",
   "execution_count": 9,
   "metadata": {},
   "outputs": [],
   "source": [
    "wvg, xg, yg = get_ZTF_eff_wave(\"P48_g.dat\", return_type = 'more')\n",
    "wvr, xr, yr = get_ZTF_eff_wave(\"P48_R.dat\", return_type = 'more')\n",
    "wvi, xi, yi = get_ZTF_eff_wave(\"P48_i.dat\", return_type = 'more')"
   ]
  },
  {
   "cell_type": "code",
   "execution_count": 10,
   "metadata": {},
   "outputs": [],
   "source": [
    "lcp48['wave'] = np.zeros(len(lcp48))\n",
    "lcp48['wave'].values[lcp48[\"filter\"].values==\"g\"] = wvg\n",
    "lcp48['wave'].values[lcp48[\"filter\"].values==\"r\"] = wvr\n",
    "lcp48['wave'].values[lcp48[\"filter\"].values==\"i\"] = wvi"
   ]
  },
  {
   "cell_type": "code",
   "execution_count": 11,
   "metadata": {},
   "outputs": [],
   "source": [
    "nondec = pd.read_csv(\"../data/photometry/P48/upperlim.csv\")\n",
    "nondec['wave'] = np.zeros(len(nondec))\n",
    "nondec['wave'].values[nondec[\"filterid\"].values==1] = wvg\n",
    "nondec['wave'].values[nondec[\"filterid\"].values==2] = wvr\n",
    "nondec['wave'].values[nondec[\"filterid\"].values==3] = wvi"
   ]
  },
  {
   "cell_type": "code",
   "execution_count": 12,
   "metadata": {},
   "outputs": [],
   "source": [
    "#lcp48.head()"
   ]
  },
  {
   "cell_type": "markdown",
   "metadata": {},
   "source": [
    "#### LT"
   ]
  },
  {
   "cell_type": "code",
   "execution_count": 13,
   "metadata": {},
   "outputs": [],
   "source": [
    "wvu_lt, xu_lt, yu_lt = get_LT_eff_wave('IOO_SDSS-U.txt', return_type = 'more')\n",
    "wvg_lt, xg_lt, yg_lt = get_LT_eff_wave('IOO_SDSS-G.txt', return_type = 'more')\n",
    "wvr_lt, xr_lt, yr_lt = get_LT_eff_wave('IOO_SDSS-R.txt', return_type = 'more')\n",
    "wvi_lt, xi_lt, yi_lt = get_LT_eff_wave('IOO_SDSS-I.txt', return_type = 'more')\n",
    "wvz_lt, xz_lt, yz_lt = get_LT_eff_wave('IOO_SDSS-Z.txt', return_type = 'more')\n",
    "lclt['wave'] = np.zeros(len(lclt))\n",
    "lclt.loc[lclt[\"filter\"].values==\"u\", 'wave'] = wvu_lt\n",
    "lclt.loc[lclt[\"filter\"].values==\"g\", 'wave'] = wvg_lt\n",
    "lclt.loc[lclt[\"filter\"].values==\"r\", 'wave'] = wvr_lt\n",
    "lclt.loc[lclt[\"filter\"].values==\"i\", 'wave'] = wvi_lt\n",
    "lclt.loc[lclt[\"filter\"].values==\"z\", 'wave'] = wvz_lt"
   ]
  },
  {
   "cell_type": "markdown",
   "metadata": {},
   "source": [
    "#### P60/SEDM"
   ]
  },
  {
   "cell_type": "code",
   "execution_count": 15,
   "metadata": {},
   "outputs": [],
   "source": [
    "# lcp60"
   ]
  },
  {
   "cell_type": "code",
   "execution_count": 16,
   "metadata": {},
   "outputs": [],
   "source": [
    "wvi_p60, xi_p60, yi_p60 = get_P60_eff_wave(myfilter = \"i'\", return_type = 'more')\n",
    "wvr_p60, xr_p60, yr_p60 = get_P60_eff_wave(myfilter = \"r'\", return_type = 'more')"
   ]
  },
  {
   "cell_type": "code",
   "execution_count": 17,
   "metadata": {},
   "outputs": [],
   "source": [
    "lcp60['wave'] = np.zeros(len(lcp60))\n",
    "lcp60['wave'].values[lcp60[\"filter\"].values==\"r\"] = wvr_p60\n",
    "lcp60['wave'].values[lcp60[\"filter\"].values==\"i\"] = wvi_p60"
   ]
  },
  {
   "cell_type": "code",
   "execution_count": 18,
   "metadata": {},
   "outputs": [],
   "source": [
    "lcall = pd.concat([lcp48, lcp60, lclt, lcuvot], sort=True)"
   ]
  },
  {
   "cell_type": "markdown",
   "metadata": {},
   "source": [
    " Significant figures CLEAN UP"
   ]
  },
  {
   "cell_type": "code",
   "execution_count": 19,
   "metadata": {},
   "outputs": [],
   "source": [
    "lcall = lcall.round({'emag': 3, 'mag': 3, 'mjd': 4, 'wave': 1})"
   ]
  },
  {
   "cell_type": "code",
   "execution_count": 20,
   "metadata": {},
   "outputs": [],
   "source": [
    "#lcall.head()"
   ]
  },
  {
   "cell_type": "code",
   "execution_count": 21,
   "metadata": {},
   "outputs": [
    {
     "data": {
      "text/plain": [
       "122"
      ]
     },
     "execution_count": 21,
     "metadata": {},
     "output_type": "execute_result"
    }
   ],
   "source": [
    "len(lcall)"
   ]
  },
  {
   "cell_type": "code",
   "execution_count": 22,
   "metadata": {},
   "outputs": [
    {
     "data": {
      "text/plain": [
       "array([2079. , 2255.1, 2614.2, 3475.5, 3479.2, 4359.1, 4795.5, 4814. ,\n",
       "       5430.1, 6187.6, 6348.8, 6421.8, 7658.7, 7681.9, 7883.1, 9669.8])"
      ]
     },
     "execution_count": 22,
     "metadata": {},
     "output_type": "execute_result"
    }
   ],
   "source": [
    "np.unique(lcall[\"wave\"])"
   ]
  },
  {
   "cell_type": "code",
   "execution_count": 23,
   "metadata": {},
   "outputs": [],
   "source": [
    "lcall.to_csv(\"../data/photometry/photall.txt\", sep='\\t', encoding = 'utf-8', index = False)"
   ]
  },
  {
   "cell_type": "markdown",
   "metadata": {},
   "source": [
    "### 3. Galactic extinction correction, Calculate absolute mag"
   ]
  },
  {
   "cell_type": "code",
   "execution_count": 24,
   "metadata": {},
   "outputs": [],
   "source": [
    "z = 0.0213\n",
    "ebv = 0.022\n",
    "t_max = 58583.2 # see below part 4"
   ]
  },
  {
   "cell_type": "code",
   "execution_count": 25,
   "metadata": {},
   "outputs": [],
   "source": [
    "from helper.app2abs import deredden_df, app2abs_df, add_physcol, add_datecol"
   ]
  },
  {
   "cell_type": "code",
   "execution_count": 26,
   "metadata": {},
   "outputs": [
    {
     "data": {
      "text/plain": [
       "Index(['emag', 'filter', 'instrument', 'mag', 'mjd', 'wave'], dtype='object')"
      ]
     },
     "execution_count": 26,
     "metadata": {},
     "output_type": "execute_result"
    }
   ],
   "source": [
    "lcall.columns"
   ]
  },
  {
   "cell_type": "code",
   "execution_count": 27,
   "metadata": {},
   "outputs": [],
   "source": [
    "tb = deredden_df(lcall, ebv = ebv)\n",
    "tb = app2abs_df(tb, z=z, t_max = t_max)\n",
    "tb = add_physcol(tb)\n",
    "tb = add_datecol(tb)"
   ]
  },
  {
   "cell_type": "code",
   "execution_count": 28,
   "metadata": {},
   "outputs": [
    {
     "data": {
      "text/plain": [
       "array([18.18002443, 18.21109012, 18.34109012, 18.34470904, 18.38786063,\n",
       "       18.39916509, 18.40264241, 18.40302443, 18.42457465, 18.43557465,\n",
       "       18.46109012, 18.49916509, 18.50916509, 18.51464241, 18.53941635])"
      ]
     },
     "execution_count": 28,
     "metadata": {},
     "output_type": "execute_result"
    }
   ],
   "source": [
    "tb[\"mag0\"].values[np.argsort(tb[\"mag0\"].values)][:15]"
   ]
  },
  {
   "cell_type": "code",
   "execution_count": 29,
   "metadata": {},
   "outputs": [
    {
     "data": {
      "text/plain": [
       "array(['U', 'u', 'u', 'UVM2', 'V', 'g', 'B', 'U', 'g', 'g', 'u', 'g', 'g',\n",
       "       'B', 'UVW1'], dtype=object)"
      ]
     },
     "execution_count": 29,
     "metadata": {},
     "output_type": "execute_result"
    }
   ],
   "source": [
    "tb[\"filter\"].values[np.argsort(tb[\"mag0\"].values)][:15]"
   ]
  },
  {
   "cell_type": "code",
   "execution_count": 30,
   "metadata": {},
   "outputs": [
    {
     "data": {
      "text/plain": [
       "-16.440000000000005"
      ]
     },
     "execution_count": 30,
     "metadata": {},
     "output_type": "execute_result"
    }
   ],
   "source": [
    "18.40-34.84"
   ]
  },
  {
   "cell_type": "code",
   "execution_count": 31,
   "metadata": {},
   "outputs": [],
   "source": [
    "tb.to_csv(\"../data/otherSN/Yao2020/lc_at2019dge.csv\", index = False)"
   ]
  },
  {
   "cell_type": "markdown",
   "metadata": {},
   "source": [
    "### 4. Estimate peak magnitude time"
   ]
  },
  {
   "cell_type": "code",
   "execution_count": 32,
   "metadata": {},
   "outputs": [],
   "source": [
    "    ms = 4\n",
    "    mylc = tb[tb.instrument=='P48']\n",
    "    ltlc = tb[tb.instrument=='LT+IOO']\n",
    "    t0guess = 58583.19\n",
    "    \n",
    "    # P48 data\n",
    "    for myfilter in ['g', 'r']:\n",
    "        ix = mylc['filter'].values == myfilter\n",
    "        mymag = mylc['mag0_abs'].values[ix]\n",
    "        mymag_unc = mylc['emag'].values[ix]\n",
    "        mjd = mylc['mjd'].values[ix]\n",
    "        mytime = mjd - t0guess\n",
    "        \n",
    "        if myfilter == 'g':\n",
    "            xg1 = mytime\n",
    "            yg1 = mymag\n",
    "            eyg1 = mymag_unc\n",
    "        elif myfilter == 'r':\n",
    "            xr1 = mytime\n",
    "            yr1 = mymag\n",
    "            eyr1 = mymag_unc\n",
    "            \n",
    "    # LT data\n",
    "    for myfilter in ['g', 'r']:\n",
    "        ix = ltlc['filter'].values== myfilter\n",
    "        mlt = ltlc[ix]\n",
    "        mjds = mlt['mjd'].values\n",
    "        mytime = mjds  - t0guess\n",
    "        mags = mlt['mag0_abs'].values \n",
    "        mags_unc = mlt['emag'].values \n",
    "        \n",
    "        if myfilter=='g':\n",
    "            color = 'g'\n",
    "            xg2 = mytime\n",
    "            yg2 = mags\n",
    "            eyg2 = mags_unc\n",
    "        elif myfilter == 'r':\n",
    "            color = 'r'\n",
    "            xr2 = mytime\n",
    "            yr2 = mags\n",
    "            eyr2 = mags_unc\n",
    "            \n",
    "    xg = np.hstack([xg1, xg2])\n",
    "    yg = np.hstack([yg1, yg2])\n",
    "    eyg = np.hstack([eyg1, eyg2])\n",
    "    xr = np.hstack([xr1, xr2])\n",
    "    yr = np.hstack([yr1, yr2])\n",
    "    eyr = np.hstack([eyr1, eyr2])"
   ]
  },
  {
   "cell_type": "code",
   "execution_count": 33,
   "metadata": {},
   "outputs": [],
   "source": [
    "def minor_plot(tb, fig, minor_loc = [0.52, 0.54, 0.4, 0.28], pub = True):  \n",
    "    ms = 4\n",
    "    mylc = tb[tb.instrument=='P48']\n",
    "    ltlc = tb[tb.instrument=='LT+IOO']\n",
    "    axi = fig.add_axes(minor_loc) # [left, bottom, width, height\n",
    "            \n",
    "    # P48\n",
    "    axi.errorbar(xg1, yg1, eyg1, fmt='.', color = \"royalblue\")\n",
    "    axi.errorbar(xr1, yr1, eyr1, fmt='.', color = \"crimson\")\n",
    "    axi.plot(xg1, yg1, eyg1, marker='o', markeredgecolor='royalblue', markersize=ms+2, zorder=3, markerfacecolor= \"white\", linestyle = \"None\", markeredgewidth=2)\n",
    "    axi.plot(xr1, yr1, eyr1, marker='s', markeredgecolor='crimson', markersize=ms+2, zorder=3, markerfacecolor= \"white\", linestyle = \"None\", markeredgewidth=2)\n",
    "        \n",
    "    # LT\n",
    "    axi.errorbar(xg2, yg2, eyg2, fmt='.', color = \"royalblue\")\n",
    "    axi.errorbar(xr2, yr2, eyr2, fmt='.', color = \"crimson\")\n",
    "    axi.plot(xg2, yg2, eyg2, marker='o', markeredgecolor='royalblue', markersize=ms+2, zorder=3, markerfacecolor= \"royalblue\", linestyle = \"None\")\n",
    "    axi.plot(xr2, yr2, eyr2, marker='s', markeredgecolor='crimson', markersize=ms+2, zorder=3, markerfacecolor= \"crimson\", linestyle = \"None\")\n",
    "        \n",
    "    axi.invert_yaxis()\n",
    "\n",
    "    gap_polyfit(xg, yg, eyg, axi, color='royalblue')\n",
    "    gap_polyfit(xr, yr, eyr, axi, color='crimson')\n",
    "    axi.set_xlim(-3.3, 5.5)\n",
    "    axi.set_ylim(-13.7, -16.7)\n",
    "    \n",
    "    if pub == True:\n",
    "        axi.xaxis.set_major_locator(plt.MultipleLocator(1))\n",
    "        axi.xaxis.set_minor_locator(plt.MultipleLocator(0.2))\n",
    "        axi.yaxis.set_major_locator(plt.MultipleLocator(1))\n",
    "        axi.yaxis.set_minor_locator(plt.MultipleLocator(0.2))\n",
    "        axi.tick_params(which = 'major', length = 4, top=True)\n",
    "        axi.tick_params(which = 'minor', length = 2, top=True)\n",
    "        axi.tick_params(direction='in', axis='both', which = 'both')\n",
    "        axi.grid(ls=\":\")"
   ]
  },
  {
   "cell_type": "code",
   "execution_count": 34,
   "metadata": {},
   "outputs": [],
   "source": [
    "def bic_poly_fit(t1, mag1, e_mag1, order, ax, color =None):\n",
    "    N = len(t1)\n",
    "    coefs = mypoly.polyfit(t1, mag1, order, w=1/e_mag1**2)\n",
    "    tstart = np.round(t1[0], 1) - 0.2\n",
    "    tend = np.round(t1[-1], 1) + 0.2\n",
    "    nt = int(np.round(((tend - tstart) / 0.01) + 1, 0))\n",
    "    xnew = np.linspace(tstart, \n",
    "                       tend, nt)\n",
    "    ynew1 = mypoly.polyval(xnew, coefs)\n",
    "    #plt.errorbar(t1, mag1, e_mag1, fmt='.g')\n",
    "    \n",
    "    mag1_fitted = mypoly.polyval(t1, coefs)\n",
    "    chi2 = np.sum((mag1 - mag1_fitted)**2 / e_mag1**2)\n",
    "    bic = chi2 + (order+1) * np.log(N)\n",
    "    if color==None:\n",
    "        ax.plot(xnew, ynew1, label='order = %d, bic = %.2f'%(order, bic))\n",
    "    else:\n",
    "        ax.plot(xnew, ynew1, color = color, linestyle = '-.')\n",
    "        ix= ynew1 == min(ynew1)\n",
    "        xmax = xnew[ix]\n",
    "        print (\"max light in %s\"%color, \"%.4f\"%xmax)\n",
    "        print (\"max light in %s\"%color, min(ynew1))\n",
    "        ax.plot([xmax, xmax], [min(mag1),max(mag1)], color = color, linestyle = ':')\n",
    "    return bic\n",
    "    \n",
    "    \n",
    "def gap_polyfit(x, y, ey, axi, color='royalblue'):    \n",
    "    ix = np.argsort(x)\n",
    "    x = x[ix]\n",
    "    y = y[ix]\n",
    "    ey = ey[ix]\n",
    "    \n",
    "    ix = (x>-2)&(x<3)\n",
    "    x = x[ix]\n",
    "    y = y[ix]\n",
    "    ey = ey[ix]\n",
    "    \n",
    "    if color == 'royalblue':\n",
    "        order = 3\n",
    "        bic_poly_fit(x, y, ey, order, axi, color = color)\n",
    "    if color == 'crimson':\n",
    "        order = 3\n",
    "        bic_poly_fit(x, y, ey, order, axi, color = color)"
   ]
  },
  {
   "cell_type": "code",
   "execution_count": 35,
   "metadata": {},
   "outputs": [],
   "source": [
    "%matplotlib inline"
   ]
  },
  {
   "cell_type": "code",
   "execution_count": 36,
   "metadata": {},
   "outputs": [
    {
     "name": "stdout",
     "output_type": "stream",
     "text": [
      "max light in royalblue 0.0200\n",
      "max light in royalblue -16.45825012639796\n",
      "max light in crimson 0.2100\n",
      "max light in crimson -16.27147474033512\n"
     ]
    },
    {
     "data": {
      "image/png": "[encoded data removed]",
      "text/plain": [
       "<Figure size 504x288 with 1 Axes>"
      ]
     },
     "metadata": {
      "needs_background": "light"
     },
     "output_type": "display_data"
    }
   ],
   "source": [
    "fig = plt.figure(figsize=(7, 4))\n",
    "minor_plot(tb, fig, minor_loc = [0.1, 0.1, 0.85, 0.85], pub = False)"
   ]
  },
  {
   "cell_type": "code",
   "execution_count": 37,
   "metadata": {},
   "outputs": [
    {
     "name": "stdout",
     "output_type": "stream",
     "text": [
      "97183528.05780397\n"
     ]
    }
   ],
   "source": [
    "from astropy.cosmology import FlatLambdaCDM\n",
    "cosmo = FlatLambdaCDM(H0=70., Om0=0.275)\n",
    "D_100 = cosmo.luminosity_distance([0.0223])[0].value * 1e+6 # in pc\n",
    "print (D_100)"
   ]
  },
  {
   "cell_type": "code",
   "execution_count": 38,
   "metadata": {},
   "outputs": [],
   "source": [
    "dis_mod = 5*np.log10(97e+6/10)"
   ]
  },
  {
   "cell_type": "code",
   "execution_count": 39,
   "metadata": {},
   "outputs": [
    {
     "data": {
      "text/plain": [
       "18.49385867133122"
      ]
     },
     "execution_count": 39,
     "metadata": {},
     "output_type": "execute_result"
    }
   ],
   "source": [
    "-16.44 + dis_mod "
   ]
  },
  {
   "cell_type": "code",
   "execution_count": 40,
   "metadata": {},
   "outputs": [
    {
     "data": {
      "text/plain": [
       "58583.19"
      ]
     },
     "execution_count": 40,
     "metadata": {},
     "output_type": "execute_result"
    }
   ],
   "source": [
    "t0guess"
   ]
  },
  {
   "cell_type": "code",
   "execution_count": 41,
   "metadata": {},
   "outputs": [
    {
     "data": {
      "text/plain": [
       "58581.2"
      ]
     },
     "execution_count": 41,
     "metadata": {},
     "output_type": "execute_result"
    }
   ],
   "source": [
    "58583.2 - 2"
   ]
  },
  {
   "cell_type": "code",
   "execution_count": 42,
   "metadata": {},
   "outputs": [
    {
     "data": {
      "text/plain": [
       "58585.2"
      ]
     },
     "execution_count": 42,
     "metadata": {},
     "output_type": "execute_result"
    }
   ],
   "source": [
    "58583.2 + 2"
   ]
  },
  {
   "cell_type": "markdown",
   "metadata": {},
   "source": [
    "Therefore, maximum light at g-band is at MJD=58583.18. maximum light at r-band is at MJD=58583.18+0.23.\n",
    "\n",
    "Since we are not interested in many significant figures. Let's say g-band max time is MJD=58583.2. r-band max time is at MJD=58583.4."
   ]
  },
  {
   "cell_type": "markdown",
   "metadata": {},
   "source": [
    "### 5. Make light curve figure"
   ]
  },
  {
   "cell_type": "code",
   "execution_count": 43,
   "metadata": {},
   "outputs": [],
   "source": [
    "    magoffsetg = 0\n",
    "    magoffseti = 0\n",
    "    magoffsetz = 0"
   ]
  },
  {
   "cell_type": "code",
   "execution_count": null,
   "metadata": {},
   "outputs": [],
   "source": []
  },
  {
   "cell_type": "code",
   "execution_count": 44,
   "metadata": {},
   "outputs": [],
   "source": [
    "from allsn_info import get_at2019dge"
   ]
  },
  {
   "cell_type": "code",
   "execution_count": 45,
   "metadata": {},
   "outputs": [],
   "source": [
    "result = get_at2019dge(colorplt=False)\n",
    "t0jd = result['t_max']\n",
    "tspecs = result['tspecs']\n",
    "tb = result['tb']\n",
    "dis_mod = tb[\"mag0\"].values[0] - tb[\"mag0_abs\"].values[0] "
   ]
  },
  {
   "cell_type": "code",
   "execution_count": 142,
   "metadata": {},
   "outputs": [],
   "source": [
    "def mark_spec_epochs(tspecs, t0jd):\n",
    "    # plot spec epochs\n",
    "    mupp = -17.0\n",
    "    mbottom = -17.1\n",
    "    for t in tspecs:\n",
    "        if t-t0jd<70:\n",
    "            axi.plot([t-t0jd,t-t0jd], [mupp, mbottom], 'k-', clip_on = False)\n",
    "            axi.text(t-t0jd-0.5, -17.15, 'S')\n",
    "    axi.set_ylim(-11.8, -17)\n",
    "    \n",
    "    mupp = -16.95\n",
    "    mbottom = -16.8\n",
    "    for t in [58582.8, 58583.6, 58657.8]:\n",
    "        axi.plot([t-t0jd,t-t0jd], [mupp, mbottom], '-', color = \"indigo\")"
   ]
  },
  {
   "cell_type": "code",
   "execution_count": 129,
   "metadata": {},
   "outputs": [],
   "source": [
    "def create_new_yticks1_abs(ylims1):\n",
    "    yticks1_new = []\n",
    "    candi = np.arange(-23, -10)\n",
    "    for x in candi:\n",
    "        if x<ylims1[0] and x>ylims1[1]:\n",
    "            yticks1_new.append(x)\n",
    "    yticks1_new = np.array(yticks1_new)\n",
    "    return yticks1_new\n",
    "    \n",
    "\n",
    "\n",
    "def create_new_yticks2(ylims2):\n",
    "    yticks2_new = []\n",
    "    candi = np.arange(8, 24)\n",
    "    for x in candi:\n",
    "        if x<ylims2[0] and x>ylims2[1]:\n",
    "            yticks2_new.append(x)\n",
    "    yticks2_new = np.array(yticks2_new)\n",
    "    return yticks2_new"
   ]
  },
  {
   "cell_type": "code",
   "execution_count": 130,
   "metadata": {},
   "outputs": [],
   "source": [
    "def major_plot(tb, axi):\n",
    "    mylc = tb[tb.instrument=='P48']\n",
    "    ltlc = tb[tb.instrument=='LT+IOO']\n",
    "    p60lc = tb[tb.instrument=='P60+SEDM']\n",
    "    \n",
    "    ms = 4\n",
    "\n",
    "    for i in ['g', 'r', 'i']:\n",
    "        ix = mylc['filter'].values == i\n",
    "        mytime_det = mylc['tmax_of'].values[ix]\n",
    "        mags = mylc['mag0_abs'].values[ix]\n",
    "        mags_unc = mylc['emag'].values[ix]\n",
    "        \n",
    "        markerfacecolor = \"white\"\n",
    "        if i == 'g':\n",
    "            color = 'royalblue'\n",
    "            mags += magoffsetg\n",
    "            mylabel1 = 'P48 $g$'\n",
    "            fmt = \"o\"\n",
    "        elif i == 'r':\n",
    "            color='crimson'\n",
    "            mylabel1 = 'P48 $r$'\n",
    "            fmt = \"s\"\n",
    "        elif i == 'i':\n",
    "            color='goldenrod'\n",
    "            mylabel1 = 'P48 $i$'\n",
    "            fmt = \"D\"\n",
    "            mags += magoffseti\n",
    "        \n",
    "        axi.errorbar(mytime_det, mags, mags_unc, fmt=\".\", color=color, \n",
    "                     markersize=ms, zorder=2)\n",
    "        axi.plot(mytime_det, mags, marker = fmt, markerfacecolor = markerfacecolor, markersize=ms+2,\n",
    "                 markeredgewidth = 2,\n",
    "                 markeredgecolor = color, zorder=3, label = mylabel1, linestyle = \"None\")\n",
    "    \n",
    "    #axi.set_yticklabels([])\n",
    "    axi.tick_params(direction='in', axis='both', which = 'both')\n",
    "    axi.invert_yaxis()\n",
    "    \n",
    "    # plot LT light curve\n",
    "    for myfilter in [\"u\", 'g', 'r', 'i', 'z']:\n",
    "        ix = ltlc['filter'].values==myfilter\n",
    "        mlt = ltlc[ix]\n",
    "        mytime = mlt['tmax_of'].values \n",
    "        mymag = mlt['mag0_abs'].values \n",
    "        ind = mymag!=99\n",
    "        mytime_det = mytime[ind]\n",
    "        mags = mymag[ind] \n",
    "        mags_unc = mlt['emag'].values[ind]\n",
    "        \n",
    "        if myfilter=='g':\n",
    "            color = 'royalblue'\n",
    "            mags += magoffsetg\n",
    "            mylabel1 = 'LT $g$'\n",
    "            markerfacecolor = 'royalblue'\n",
    "            marker = \"o\"\n",
    "        elif myfilter=='u':\n",
    "            color = 'purple'\n",
    "            mags += 0\n",
    "            mylabel1 = 'LT $u$'\n",
    "            markerfacecolor = 'purple'\n",
    "            marker = \"<\"\n",
    "        elif myfilter == 'r':\n",
    "            color = 'crimson'\n",
    "            mylabel1 = 'LT $r$'\n",
    "            markerfacecolor = 'crimson'\n",
    "            marker = \"s\"\n",
    "        elif myfilter == 'i':\n",
    "            color = 'goldenrod'\n",
    "            mags += magoffseti\n",
    "            mylabel1 = 'LT $i$'\n",
    "            markerfacecolor = 'goldenrod'\n",
    "            marker = \"D\"\n",
    "        elif myfilter == 'z':\n",
    "            color = 'pink'\n",
    "            mags += magoffsetz\n",
    "            mylabel1 = 'LT $z$'\n",
    "            markerfacecolor = 'pink'\n",
    "            marker = \">\"\n",
    "            \n",
    "        axi.errorbar(mytime_det, mags, mags_unc, fmt='.', color=color, \n",
    "                     markersize=ms+2, zorder=2)\n",
    "        axi.plot(mytime_det, mags, marker = marker, markerfacecolor = markerfacecolor, markersize=ms+2,\n",
    "                 markeredgewidth = 2,\n",
    "                 markeredgecolor = color, zorder=3, label = mylabel1, linestyle = \"None\")"
   ]
  },
  {
   "cell_type": "code",
   "execution_count": 131,
   "metadata": {},
   "outputs": [],
   "source": [
    "nondec = deredden_df(nondec, ebv = ebv)\n",
    "nondec = app2abs_df(nondec, z=z, t_max = t_max)"
   ]
  },
  {
   "cell_type": "code",
   "execution_count": 132,
   "metadata": {},
   "outputs": [
    {
     "data": {
      "text/plain": [
       "-14.336666595322477"
      ]
     },
     "execution_count": 132,
     "metadata": {},
     "output_type": "execute_result"
    }
   ],
   "source": [
    "20.5 - dis_mod"
   ]
  },
  {
   "cell_type": "code",
   "execution_count": 133,
   "metadata": {},
   "outputs": [],
   "source": [
    "def add_upper_limit(mylc):\n",
    "    for i in [1,2,3]:\n",
    "        ix = mylc['filterid'].values == i\n",
    "        mytime_upp = mylc['tmax_of'].values[ix]\n",
    "        uppmags = mylc['limmag0_abs'].values[ix]\n",
    "        \n",
    "        if i == 1:\n",
    "            color = 'royalblue'\n",
    "            uppmags += magoffsetg\n",
    "            #mylabel1 = 'P48 $g-2$'\n",
    "        elif i == 2:\n",
    "            color='crimson'\n",
    "            #mylabel1 = 'P48 $r$'\n",
    "        elif i == 3:\n",
    "            color='goldenrod'\n",
    "            #mylabel1 = 'P48 $i+1$'\n",
    "            uppmags += magoffseti\n",
    "        \n",
    "        for j in range(len(uppmags)):\n",
    "            if ((uppmags[j] > -14.3)&(mytime_upp[j]>35)) or (mytime_upp[j]<0):\n",
    "                axi.arrow(mytime_upp[j], uppmags[j], 0, 0.1, \n",
    "                      head_width=0.5, head_length=0.08, alpha=0.5,\n",
    "                      width = 0.1, fc=color, ec=color, zorder=2)\n",
    "                axi.plot([mytime_upp[j]-0.4, mytime_upp[j]+0.4], \n",
    "                     [uppmags[j], uppmags[j]], linewidth=1, alpha=0.5,\n",
    "                     color = color, zorder=2)"
   ]
  },
  {
   "cell_type": "code",
   "execution_count": 143,
   "metadata": {},
   "outputs": [
    {
     "name": "stdout",
     "output_type": "stream",
     "text": [
      "max light in royalblue 0.0200\n",
      "max light in royalblue -16.45825012639796\n",
      "max light in crimson 0.2100\n",
      "max light in crimson -16.27147474033512\n"
     ]
    },
    {
     "data": {
      "image/png": "[encoded data removed]",
      "text/plain": [
       "<Figure size 864x540 with 3 Axes>"
      ]
     },
     "metadata": {
      "needs_background": "light"
     },
     "output_type": "display_data"
    }
   ],
   "source": [
    "fig = plt.figure(figsize=(12, 7.5))\n",
    "axi = plt.subplot(111)\n",
    "add_upper_limit(nondec)\n",
    "major_plot(tb, axi)\n",
    "    \n",
    "mark_spec_epochs(tspecs, t0jd)\n",
    "\n",
    "ylims1 = axi.get_ylim()\n",
    "ylims2 = (ylims1[0] + dis_mod, ylims1[1] + dis_mod)\n",
    "yticks2_label = create_new_yticks2(ylims2)\n",
    "yticks2_real = []\n",
    "for x in yticks2_label:\n",
    "    yticks2_real.append(x - dis_mod)\n",
    "yticks2_real = np.array(yticks2_real)\n",
    "\n",
    "axi2 = axi.twinx()\n",
    "axi2.set_yticks(yticks2_real)\n",
    "axi2.set_ylim(ylims1[0], ylims1[1])\n",
    "axi2.set_yticklabels(yticks2_label)\n",
    "\n",
    "axi.set_ylabel('Absolute magnitude')\n",
    "axi2.set_ylabel('Apparent magnitude')\n",
    "axi.set_xlabel('Time since $g$-band maximum (d)')\n",
    "    \n",
    "axi.xaxis.set_major_locator(plt.MultipleLocator(10))\n",
    "axi.xaxis.set_minor_locator(plt.MultipleLocator(2))\n",
    "axi.tick_params(which = 'major', length = 4, top=True)\n",
    "axi.tick_params(which = 'minor', length = 2, top=True)\n",
    "    \n",
    "axi.set_xlim(-8.5, 65)\n",
    "axi.legend(loc='lower left', ncol = 3,\n",
    "           #bbox_to_anchor=(0.85, 1.2), \n",
    "           fancybox=False, frameon=True)\n",
    "    \n",
    "axi.text(-5, -16.8, \"$Swift$\", color = \"indigo\")\n",
    "    \n",
    "plt.tight_layout()\n",
    "minor_plot(tb, fig, minor_loc = [0.52, 0.57, 0.38, 0.32]) # rect = l, b, w, h\n",
    "    \n",
    "plt.savefig('../paper/figures/lightcurve.pdf')\n",
    "#plt.close()"
   ]
  },
  {
   "cell_type": "code",
   "execution_count": null,
   "metadata": {},
   "outputs": [],
   "source": []
  },
  {
   "cell_type": "code",
   "execution_count": null,
   "metadata": {},
   "outputs": [],
   "source": []
  },
  {
   "cell_type": "code",
   "execution_count": null,
   "metadata": {},
   "outputs": [],
   "source": []
  }
 ],
 "metadata": {
  "kernelspec": {
   "display_name": "Python 3",
   "language": "python",
   "name": "python3"
  },
  "language_info": {
   "codemirror_mode": {
    "name": "ipython",
    "version": 3
   },
   "file_extension": ".py",
   "mimetype": "text/x-python",
   "name": "python",
   "nbconvert_exporter": "python",
   "pygments_lexer": "ipython3",
   "version": "3.6.8"
  }
 },
 "nbformat": 4,
 "nbformat_minor": 2
}
