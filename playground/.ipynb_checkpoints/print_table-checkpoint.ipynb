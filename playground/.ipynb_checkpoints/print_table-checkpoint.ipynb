{
 "cells": [
  {
   "cell_type": "code",
   "execution_count": 1,
   "metadata": {},
   "outputs": [],
   "source": [
    "import pandas as pd\n",
    "import numpy as np"
   ]
  },
  {
   "cell_type": "code",
   "execution_count": 2,
   "metadata": {},
   "outputs": [],
   "source": [
    "lc = pd.read_csv(\"../data/photometry/photall.txt\", sep='\\t')"
   ]
  },
  {
   "cell_type": "code",
   "execution_count": 3,
   "metadata": {},
   "outputs": [
    {
     "data": {
      "text/plain": [
       "array(['LT+IOO', 'P48', 'P60+SEDM', 'Swift'], dtype=object)"
      ]
     },
     "execution_count": 3,
     "metadata": {},
     "output_type": "execute_result"
    }
   ],
   "source": [
    "np.unique(lc[\"instrument\"].values)"
   ]
  },
  {
   "cell_type": "code",
   "execution_count": 10,
   "metadata": {},
   "outputs": [
    {
     "name": "stdout",
     "output_type": "stream",
     "text": [
      "58582.1544 & LT$+$IOO & $g$ & 18.590 & 0.010 \\\\\n",
      "58582.1552 & LT$+$IOO & $r$ & 18.840 & 0.020 \\\\\n",
      "58582.1575 & LT$+$IOO & $i$ & 19.110 & 0.020 \\\\\n",
      "58582.1583 & LT$+$IOO & $z$ & 19.280 & 0.070 \\\\\n",
      "58584.2341 & LT$+$IOO & $u$ & 18.570 & 0.020 \\\\\n",
      "58580.4421 & P48$+$ZTF & $g$ & 20.828 & 0.148 \\\\\n",
      "58580.4842 & P48$+$ZTF & $r$ & 20.891 & 0.139 \\\\\n",
      "58582.8289 & \\swift$+$UVOT & $B$ & 18.606 & 0.193 \\\\\n",
      "58582.8280 & \\swift$+$UVOT & $U$ & 18.289 & 0.113 \\\\\n",
      "58582.8346 & \\swift$+$UVOT & $UVM2$ & 18.550 & 0.068 \\\\\n",
      "58582.8261 & \\swift$+$UVOT & $UVW1$ & 18.685 & 0.108 \\\\\n",
      "58582.8299 & \\swift$+$UVOT & $UVW2$ & 18.802 & 0.103 \\\\\n",
      "58582.8337 & \\swift$+$UVOT & $V$ & 18.679 & 0.404 \\\\\n"
     ]
    }
   ],
   "source": [
    "    # 1. LT\n",
    "    ix1 = lc[\"instrument\"].values=='LT+IOO'\n",
    "    lc1 = lc[ix1]\n",
    "    mjds = lc1['mjd'].values\n",
    "    mags = lc1['mag'].values\n",
    "    emags = lc1['emag'].values\n",
    "    filters = lc1['filter'].values\n",
    "    n1 = 0\n",
    "    for i in [0, 1, 2, 3, -1]:\n",
    "        n1 += 1\n",
    "        print ('%.4f'%mjds[i], '&', 'LT$+$IOO', '&', '$'+filters[i]+'$', '&', '%.3f'%mags[i], '&', '%.3f'%emags[i], '\\\\\\\\')\n",
    "    \n",
    "    # 2. ZTF+P48\n",
    "    ix2 = lc[\"instrument\"].values=='P48'\n",
    "    lc2 = lc[ix2]\n",
    "    mjds = lc2['mjd'].values\n",
    "    mags = lc2['mag'].values\n",
    "    emags = lc2['emag'].values\n",
    "    filters = lc2['filter'].values\n",
    "    n2 = 0\n",
    "    for i in [0, 16]:\n",
    "        if mags[i]!=0:\n",
    "            n2 += 1\n",
    "            print ('%.4f'%mjds[i], '&', 'P48$+$ZTF', '&', '$'+filters[i]+'$', '&', '%.3f'%mags[i], '&', '%.3f'%emags[i], '\\\\\\\\')\n",
    "    \n",
    "    # 3. UVOT\n",
    "    ix3 = lc[\"instrument\"].values=='Swift'\n",
    "    lc3 = lc[ix3]\n",
    "    mjds = lc3['mjd'].values\n",
    "    mags = lc3['mag'].values\n",
    "    emags = lc3['emag'].values\n",
    "    filters = lc3['filter'].values\n",
    "    n3 = 0\n",
    "    for i in range(6):\n",
    "        n3 += 1\n",
    "        print ('%.4f'%mjds[i], '&', '\\swift$+$UVOT', '&', '$'+filters[i]+'$', '&', '%.3f'%mags[i], '&', '%.3f'%emags[i], '\\\\\\\\')\n",
    "    \n",
    "    \n"
   ]
  },
  {
   "cell_type": "code",
   "execution_count": 12,
   "metadata": {},
   "outputs": [
    {
     "data": {
      "text/plain": [
       "117"
      ]
     },
     "execution_count": 12,
     "metadata": {},
     "output_type": "execute_result"
    }
   ],
   "source": [
    "n1 + n2 + n3"
   ]
  },
  {
   "cell_type": "markdown",
   "metadata": {},
   "source": [
    "### Print out blackbody parameters"
   ]
  },
  {
   "cell_type": "code",
   "execution_count": 11,
   "metadata": {},
   "outputs": [
    {
     "data": {
      "text/html": [
       "<div>\n",
       "<style scoped>\n",
       "    .dataframe tbody tr th:only-of-type {\n",
       "        vertical-align: middle;\n",
       "    }\n",
       "\n",
       "    .dataframe tbody tr th {\n",
       "        vertical-align: top;\n",
       "    }\n",
       "\n",
       "    .dataframe thead th {\n",
       "        text-align: right;\n",
       "    }\n",
       "</style>\n",
       "<table border=\"1\" class=\"dataframe\">\n",
       "  <thead>\n",
       "    <tr style=\"text-align: right;\">\n",
       "      <th></th>\n",
       "      <th>phase</th>\n",
       "      <th>Lbb</th>\n",
       "      <th>Lbb_unc</th>\n",
       "      <th>Lbb_uncr</th>\n",
       "      <th>Lbb_uncl</th>\n",
       "      <th>lgLbb</th>\n",
       "      <th>lgLbb_unc</th>\n",
       "      <th>lgLbb_uncr</th>\n",
       "      <th>lgLbb_uncl</th>\n",
       "      <th>Tbb</th>\n",
       "      <th>Tbb_unc</th>\n",
       "      <th>Tbb_uncr</th>\n",
       "      <th>Tbb_uncl</th>\n",
       "      <th>Rbb</th>\n",
       "      <th>Rbb_unc</th>\n",
       "      <th>Rbb_uncr</th>\n",
       "      <th>Rbb_uncl</th>\n",
       "    </tr>\n",
       "  </thead>\n",
       "  <tbody>\n",
       "    <tr>\n",
       "      <th>0</th>\n",
       "      <td>-2.736850</td>\n",
       "      <td>2.983949e+41</td>\n",
       "      <td>2.901282e+43</td>\n",
       "      <td>5.788449e+43</td>\n",
       "      <td>1.411515e+41</td>\n",
       "      <td>41.474791</td>\n",
       "      <td>1.284111</td>\n",
       "      <td>2.290004</td>\n",
       "      <td>0.278219</td>\n",
       "      <td>14209.202620</td>\n",
       "      <td>53235.759718</td>\n",
       "      <td>101350.845480</td>\n",
       "      <td>5120.673955</td>\n",
       "      <td>1450.464003</td>\n",
       "      <td>1139.962630</td>\n",
       "      <td>1137.222684</td>\n",
       "      <td>1142.702577</td>\n",
       "    </tr>\n",
       "    <tr>\n",
       "      <th>1</th>\n",
       "      <td>-1.724067</td>\n",
       "      <td>4.462538e+42</td>\n",
       "      <td>2.984460e+42</td>\n",
       "      <td>4.384533e+42</td>\n",
       "      <td>1.584387e+42</td>\n",
       "      <td>42.649582</td>\n",
       "      <td>0.243843</td>\n",
       "      <td>0.297218</td>\n",
       "      <td>0.190468</td>\n",
       "      <td>22748.482227</td>\n",
       "      <td>5871.154120</td>\n",
       "      <td>7601.148976</td>\n",
       "      <td>4141.159264</td>\n",
       "      <td>2197.606217</td>\n",
       "      <td>451.422801</td>\n",
       "      <td>442.160036</td>\n",
       "      <td>460.685565</td>\n",
       "    </tr>\n",
       "    <tr>\n",
       "      <th>2</th>\n",
       "      <td>-0.688169</td>\n",
       "      <td>2.695612e+42</td>\n",
       "      <td>8.937328e+40</td>\n",
       "      <td>9.163109e+40</td>\n",
       "      <td>8.711548e+40</td>\n",
       "      <td>42.430657</td>\n",
       "      <td>0.014392</td>\n",
       "      <td>0.014517</td>\n",
       "      <td>0.014267</td>\n",
       "      <td>15903.081905</td>\n",
       "      <td>278.858903</td>\n",
       "      <td>282.981835</td>\n",
       "      <td>274.735972</td>\n",
       "      <td>3495.688958</td>\n",
       "      <td>66.428478</td>\n",
       "      <td>66.900212</td>\n",
       "      <td>65.956744</td>\n",
       "    </tr>\n",
       "    <tr>\n",
       "      <th>3</th>\n",
       "      <td>0.237470</td>\n",
       "      <td>2.286527e+42</td>\n",
       "      <td>6.158605e+40</td>\n",
       "      <td>6.217315e+40</td>\n",
       "      <td>6.099896e+40</td>\n",
       "      <td>42.359176</td>\n",
       "      <td>0.011697</td>\n",
       "      <td>0.011651</td>\n",
       "      <td>0.011743</td>\n",
       "      <td>13509.819389</td>\n",
       "      <td>209.076025</td>\n",
       "      <td>209.236607</td>\n",
       "      <td>208.915443</td>\n",
       "      <td>4461.483449</td>\n",
       "      <td>82.266211</td>\n",
       "      <td>83.864443</td>\n",
       "      <td>80.667980</td>\n",
       "    </tr>\n",
       "    <tr>\n",
       "      <th>4</th>\n",
       "      <td>1.091643</td>\n",
       "      <td>1.750379e+42</td>\n",
       "      <td>3.852923e+40</td>\n",
       "      <td>3.958552e+40</td>\n",
       "      <td>3.747294e+40</td>\n",
       "      <td>42.243132</td>\n",
       "      <td>0.009555</td>\n",
       "      <td>0.009712</td>\n",
       "      <td>0.009399</td>\n",
       "      <td>12073.302239</td>\n",
       "      <td>186.266414</td>\n",
       "      <td>189.647163</td>\n",
       "      <td>182.885666</td>\n",
       "      <td>4887.427194</td>\n",
       "      <td>100.171427</td>\n",
       "      <td>100.525183</td>\n",
       "      <td>99.817671</td>\n",
       "    </tr>\n",
       "  </tbody>\n",
       "</table>\n",
       "</div>"
      ],
      "text/plain": [
       "      phase           Lbb       Lbb_unc      Lbb_uncr      Lbb_uncl  \\\n",
       "0 -2.736850  2.983949e+41  2.901282e+43  5.788449e+43  1.411515e+41   \n",
       "1 -1.724067  4.462538e+42  2.984460e+42  4.384533e+42  1.584387e+42   \n",
       "2 -0.688169  2.695612e+42  8.937328e+40  9.163109e+40  8.711548e+40   \n",
       "3  0.237470  2.286527e+42  6.158605e+40  6.217315e+40  6.099896e+40   \n",
       "4  1.091643  1.750379e+42  3.852923e+40  3.958552e+40  3.747294e+40   \n",
       "\n",
       "       lgLbb  lgLbb_unc  lgLbb_uncr  lgLbb_uncl           Tbb       Tbb_unc  \\\n",
       "0  41.474791   1.284111    2.290004    0.278219  14209.202620  53235.759718   \n",
       "1  42.649582   0.243843    0.297218    0.190468  22748.482227   5871.154120   \n",
       "2  42.430657   0.014392    0.014517    0.014267  15903.081905    278.858903   \n",
       "3  42.359176   0.011697    0.011651    0.011743  13509.819389    209.076025   \n",
       "4  42.243132   0.009555    0.009712    0.009399  12073.302239    186.266414   \n",
       "\n",
       "        Tbb_uncr     Tbb_uncl          Rbb      Rbb_unc     Rbb_uncr  \\\n",
       "0  101350.845480  5120.673955  1450.464003  1139.962630  1137.222684   \n",
       "1    7601.148976  4141.159264  2197.606217   451.422801   442.160036   \n",
       "2     282.981835   274.735972  3495.688958    66.428478    66.900212   \n",
       "3     209.236607   208.915443  4461.483449    82.266211    83.864443   \n",
       "4     189.647163   182.885666  4887.427194   100.171427   100.525183   \n",
       "\n",
       "      Rbb_uncl  \n",
       "0  1142.702577  \n",
       "1   460.685565  \n",
       "2    65.956744  \n",
       "3    80.667980  \n",
       "4    99.817671  "
      ]
     },
     "execution_count": 11,
     "metadata": {},
     "output_type": "execute_result"
    }
   ],
   "source": [
    "tb = pd.read_csv('../data/otherSN/Yao2020/bbdata.csv')\n",
    "tb.head()"
   ]
  },
  {
   "cell_type": "code",
   "execution_count": 14,
   "metadata": {},
   "outputs": [
    {
     "name": "stdout",
     "output_type": "stream",
     "text": [
      "$-$2.74 & $2.98^{+578.84}_{-1.41}$ &$1.45^{+1.14}_{-1.14}$ &$14.21^{+101.35}_{-5.12}$  \\\\\n",
      "$-$1.72 & $44.63^{+43.85}_{-15.84}$ &$2.20^{+0.44}_{-0.46}$ &$22.75^{+7.60}_{-4.14}$  \\\\\n",
      "$-$0.69 & $26.96^{+0.92}_{-0.87}$ &$3.50^{+0.07}_{-0.07}$ &$15.90^{+0.28}_{-0.27}$  \\\\\n",
      "0.24 & $22.87^{+0.62}_{-0.61}$ &$4.46^{+0.08}_{-0.08}$ &$13.51^{+0.21}_{-0.21}$  \\\\\n",
      "1.09 & $17.50^{+0.40}_{-0.37}$ &$4.89^{+0.10}_{-0.10}$ &$12.07^{+0.19}_{-0.18}$  \\\\\n",
      "3.26 & $8.34^{+0.22}_{-0.20}$ &$7.26^{+0.46}_{-0.44}$ &$8.23^{+0.31}_{-0.28}$  \\\\\n",
      "4.24 & $7.29^{+0.26}_{-0.22}$ &$7.38^{+0.88}_{-0.83}$ &$7.88^{+0.54}_{-0.46}$  \\\\\n",
      "5.25 & $6.10^{+0.16}_{-0.15}$ &$8.77^{+0.78}_{-0.73}$ &$6.92^{+0.33}_{-0.30}$  \\\\\n",
      "6.83 & $6.18^{+0.63}_{-0.46}$ &$7.09^{+1.01}_{-0.92}$ &$7.72^{+0.75}_{-0.62}$  \\\\\n",
      "7.98 & $5.29^{+0.24}_{-0.21}$ &$8.00^{+0.75}_{-0.70}$ &$6.99^{+0.39}_{-0.35}$  \\\\\n",
      "8.98 & $5.49^{+0.44}_{-0.36}$ &$6.79^{+0.94}_{-0.85}$ &$7.66^{+0.65}_{-0.56}$  \\\\\n",
      "10.05 & $4.55^{+0.37}_{-0.27}$ &$7.42^{+1.03}_{-0.96}$ &$6.99^{+0.63}_{-0.52}$  \\\\\n",
      "10.92 & $4.49^{+0.64}_{-0.44}$ &$6.63^{+1.25}_{-1.06}$ &$7.37^{+0.93}_{-0.75}$  \\\\\n",
      "11.89 & $4.04^{+0.24}_{-0.21}$ &$7.42^{+0.83}_{-0.75}$ &$6.79^{+0.45}_{-0.40}$  \\\\\n",
      "13.06 & $3.34^{+0.10}_{-0.10}$ &$7.52^{+0.69}_{-0.66}$ &$6.43^{+0.32}_{-0.29}$  \\\\\n",
      "14.05 & $3.08^{+0.10}_{-0.09}$ &$7.05^{+0.63}_{-0.59}$ &$6.51^{+0.32}_{-0.29}$  \\\\\n",
      "14.97 & $2.82^{+0.15}_{-0.12}$ &$7.30^{+1.21}_{-1.06}$ &$6.25^{+0.57}_{-0.49}$  \\\\\n",
      "16.09 & $2.45^{+0.09}_{-0.09}$ &$6.17^{+0.59}_{-0.58}$ &$6.56^{+0.33}_{-0.29}$  \\\\\n",
      "23.96 & $1.02^{+0.07}_{-0.06}$ &$5.47^{+1.23}_{-1.12}$ &$5.59^{+0.74}_{-0.54}$  \\\\\n",
      "27.00 & $0.72^{+0.08}_{-0.08}$ &$4.08^{+1.26}_{-1.01}$ &$5.93^{+0.91}_{-0.70}$  \\\\\n",
      "27.98 & $0.78^{+0.07}_{-0.06}$ &$5.73^{+1.68}_{-1.29}$ &$5.10^{+0.68}_{-0.57}$  \\\\\n",
      "29.23 & $0.83^{+0.11}_{-0.09}$ &$4.76^{+2.47}_{-1.56}$ &$5.64^{+1.23}_{-0.93}$  \\\\\n",
      "33.24 & $1.09^{+0.16}_{-0.11}$ &$6.99^{+2.47}_{-1.74}$ &$5.02^{+0.65}_{-0.56}$  \\\\\n"
     ]
    }
   ],
   "source": [
    "for i in range(len(tb)):\n",
    "    phase = tb[\"phase\"].values[i]\n",
    "    if phase>=0:\n",
    "        s1= \"%.2f\"%phase + ' & '\n",
    "    else:\n",
    "        s1 = \"$-$%.2f\"%abs(phase) + ' & '\n",
    "    Lbb = tb[\"Lbb\"].values[i]\n",
    "    Lbb_uncr = tb[\"Lbb_uncr\"].values[i]\n",
    "    Lbb_uncl = tb[\"Lbb_uncl\"].values[i]\n",
    "    Tbb = tb[\"Tbb\"].values[i]\n",
    "    Tbb_uncr = tb[\"Tbb_uncr\"].values[i]\n",
    "    Tbb_uncl = tb[\"Tbb_uncl\"].values[i]\n",
    "    Rbb = tb[\"Rbb\"].values[i]\n",
    "    Rbb_uncr = tb[\"Rbb_uncr\"].values[i]\n",
    "    Rbb_uncl = tb[\"Rbb_uncl\"].values[i]\n",
    "    \n",
    "    if Lbb_uncr!=0:\n",
    "        s2 = '$'+\"%.2f\"%(Lbb/1e+41) + \"^{+\" + \"%.2f\"%(Lbb_uncr/1e+41) + \"}_{-\"+ \"%.2f\"%(Lbb_uncl/1e+41) + \"}$ &\"\n",
    "        s3 = '$'+\"%.2f\"%(Rbb/1e+3) + \"^{+\" + \"%.2f\"%(Rbb_uncr/1e+3) + \"}_{-\"+ \"%.2f\"%(Rbb_uncl/1e+3) + \"}$ &\"\n",
    "        s4 = '$'+\"%.2f\"%(Tbb/1e+3) + \"^{+\" + \"%.2f\"%(Tbb_uncr/1e+3) + \"}_{-\"+ \"%.2f\"%(Tbb_uncl/1e+3) + \"}$  \\\\\\\\\"\n",
    "    else:\n",
    "        s2 = '$'+\"%.2f\"%(Lbb/1e+41) + \"$ & \"\n",
    "        s3 = '$'+\"%.2f\"%(Rbb/1e+3) + \"$ & \"\n",
    "        s4 = '$'+\"%.2f\"%(Tbb/1e+3) + \"$  \\\\\\\\\"\n",
    "    print (s1 + s2 + s3 + s4)"
   ]
  },
  {
   "cell_type": "code",
   "execution_count": null,
   "metadata": {},
   "outputs": [],
   "source": []
  },
  {
   "cell_type": "code",
   "execution_count": null,
   "metadata": {},
   "outputs": [],
   "source": []
  }
 ],
 "metadata": {
  "kernelspec": {
   "display_name": "Python 3",
   "language": "python",
   "name": "python3"
  },
  "language_info": {
   "codemirror_mode": {
    "name": "ipython",
    "version": 3
   },
   "file_extension": ".py",
   "mimetype": "text/x-python",
   "name": "python",
   "nbconvert_exporter": "python",
   "pygments_lexer": "ipython3",
   "version": "3.6.8"
  }
 },
 "nbformat": 4,
 "nbformat_minor": 2
}
