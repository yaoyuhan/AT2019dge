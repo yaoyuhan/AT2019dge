{
 "cells": [
  {
   "cell_type": "code",
   "execution_count": 1,
   "metadata": {},
   "outputs": [],
   "source": [
    "import numpy as np\n",
    "from helper.poly_fit import poly_fit_timescales"
   ]
  },
  {
   "cell_type": "code",
   "execution_count": 4,
   "metadata": {},
   "outputs": [],
   "source": [
    "import matplotlib\n",
    "import matplotlib.pyplot as plt\n",
    "fs = 13\n",
    "matplotlib.rcParams['font.size']=fs\n",
    "matplotlib.rcParams['lines.markersize']=8"
   ]
  },
  {
   "cell_type": "code",
   "execution_count": 5,
   "metadata": {},
   "outputs": [],
   "source": [
    "from allsn_info import get_at2019dge, get_iPTF14gqr, get_sn2005ek, get_iPTF16hgs, get_sn2010X, \\\n",
    "                        get_sn2019bkc, get_sn2018gep, get_sn2018kzr, get_ptf10iuv, get_ptf09dav, \\\n",
    "                        get_sn2002bj, get_iPTF16asu"
   ]
  },
  {
   "cell_type": "markdown",
   "metadata": {},
   "source": [
    "### Read light curves of subluminous fast transients\n",
    "AT2019dge (this work)"
   ]
  },
  {
   "cell_type": "code",
   "execution_count": 6,
   "metadata": {},
   "outputs": [],
   "source": [
    "tb0 = get_at2019dge()['tb']\n",
    "tb0 = tb0[tb0['filter'].values=='r']"
   ]
  },
  {
   "cell_type": "code",
   "execution_count": 7,
   "metadata": {},
   "outputs": [],
   "source": [
    "x0 = tb0[\"tmax_rf\"].values + 0.2 # previously relative to g-band, change to r-band\n",
    "y0 = tb0['mag0_abs'].values\n",
    "ey0 = tb0['emag'].values"
   ]
  },
  {
   "cell_type": "code",
   "execution_count": 8,
   "metadata": {},
   "outputs": [
    {
     "data": {
      "image/png": "[encoded data removed]",
      "text/plain": [
       "<Figure size 432x288 with 1 Axes>"
      ]
     },
     "metadata": {
      "needs_background": "light"
     },
     "output_type": "display_data"
    }
   ],
   "source": [
    "r0 = poly_fit_timescales(x0, y0, ey0, name = \"AT2019dge\")"
   ]
  },
  {
   "cell_type": "code",
   "execution_count": 9,
   "metadata": {},
   "outputs": [
    {
     "data": {
      "text/plain": [
       "{'name': 'AT2019dge',\n",
       " 'Mpeak': -16.272063948827928,\n",
       " 'tau_rise': 2.0391902232211994,\n",
       " 'tau_rise_unc': 4.440892098500626e-16,\n",
       " 'tau_rise_lim': False,\n",
       " 'tau_decay': 8.53696784025877,\n",
       " 'tau_decay_unc': 1.7763568394002505e-15,\n",
       " 'tau_decay_lim': False}"
      ]
     },
     "execution_count": 9,
     "metadata": {},
     "output_type": "execute_result"
    }
   ],
   "source": [
    "r0"
   ]
  },
  {
   "cell_type": "markdown",
   "metadata": {},
   "source": [
    "iPTF14gqr (De et al. 2018)"
   ]
  },
  {
   "cell_type": "code",
   "execution_count": 10,
   "metadata": {},
   "outputs": [],
   "source": [
    "tb1 = get_iPTF14gqr()\n",
    "tb1 = tb1[tb1['filter'].values=='r   ']\n",
    "\n",
    "x1 = tb1[\"tmax_rf\"].values[3:]\n",
    "y1 = tb1['mag0_abs'].values [3:]\n",
    "ey1 = tb1['emag'].values[3:]"
   ]
  },
  {
   "cell_type": "code",
   "execution_count": 11,
   "metadata": {},
   "outputs": [
    {
     "data": {
      "image/png": "[encoded data removed]",
      "text/plain": [
       "<Figure size 432x288 with 1 Axes>"
      ]
     },
     "metadata": {
      "needs_background": "light"
     },
     "output_type": "display_data"
    }
   ],
   "source": [
    "r1 = poly_fit_timescales(x1, y1, ey1, name = \"iPTF14gqr\")"
   ]
  },
  {
   "cell_type": "code",
   "execution_count": 12,
   "metadata": {},
   "outputs": [
    {
     "data": {
      "text/plain": [
       "{'name': 'iPTF14gqr',\n",
       " 'Mpeak': -17.450069253909785,\n",
       " 'tau_rise': 1,\n",
       " 'tau_rise_unc': 8.881784197001252e-16,\n",
       " 'tau_rise_lim': 2,\n",
       " 'tau_decay': 7.365945437436003,\n",
       " 'tau_decay_unc': 0.0,\n",
       " 'tau_decay_lim': True}"
      ]
     },
     "execution_count": 12,
     "metadata": {},
     "output_type": "execute_result"
    }
   ],
   "source": [
    "r1[\"tau_rise\"] = 1\n",
    "r1[\"tau_rise_lim\"] = 2\n",
    "r1"
   ]
  },
  {
   "cell_type": "markdown",
   "metadata": {},
   "source": [
    "SN2005ek (Drout et al. 2013)"
   ]
  },
  {
   "cell_type": "code",
   "execution_count": 13,
   "metadata": {},
   "outputs": [
    {
     "name": "stdout",
     "output_type": "stream",
     "text": [
      "adopt r band t_max from Drout+13\n"
     ]
    }
   ],
   "source": [
    "tb2 = get_sn2005ek()\n",
    "tb2 = tb2[tb2[\"filter\"].values==\"R\"]"
   ]
  },
  {
   "cell_type": "code",
   "execution_count": 14,
   "metadata": {},
   "outputs": [],
   "source": [
    "x2 = tb2[\"tmax_rf\"].values\n",
    "y2 = tb2['mag0_abs'].values\n",
    "ey2 = tb2['emag'].values"
   ]
  },
  {
   "cell_type": "code",
   "execution_count": 15,
   "metadata": {},
   "outputs": [
    {
     "data": {
      "image/png": "[encoded data removed]",
      "text/plain": [
       "<Figure size 432x288 with 1 Axes>"
      ]
     },
     "metadata": {
      "needs_background": "light"
     },
     "output_type": "display_data"
    }
   ],
   "source": [
    "r2 = poly_fit_timescales(x2, y2, ey2, name = \"SN2005ek\")"
   ]
  },
  {
   "cell_type": "code",
   "execution_count": 16,
   "metadata": {},
   "outputs": [
    {
     "data": {
      "text/plain": [
       "{'name': 'SN2005ek',\n",
       " 'Mpeak': -17.424848470662628,\n",
       " 'tau_rise': -99,\n",
       " 'tau_rise_unc': -99,\n",
       " 'tau_rise_lim': True,\n",
       " 'tau_decay': 5.213707920213233,\n",
       " 'tau_decay_unc': 1.7763568394002505e-15,\n",
       " 'tau_decay_lim': False}"
      ]
     },
     "execution_count": 16,
     "metadata": {},
     "output_type": "execute_result"
    }
   ],
   "source": [
    "r2"
   ]
  },
  {
   "cell_type": "markdown",
   "metadata": {},
   "source": [
    "iPTF16hgs (De et al. 2018)"
   ]
  },
  {
   "cell_type": "code",
   "execution_count": 17,
   "metadata": {},
   "outputs": [],
   "source": [
    "tb3 = get_iPTF16hgs()\n",
    "ix = np.any([tb3[\"filter\"].values=='r', \n",
    "             np.all([tb3[\"filter\"].values=='o', tb3[\"tmax_rf\"].values==min(tb3[\"tmax_rf\"].values)], axis=0)\n",
    "                    ], axis=0)\n",
    "tb3 = tb3[ix]\n",
    "tb3 = tb3.sort_values(by=['tmax_rf'])"
   ]
  },
  {
   "cell_type": "code",
   "execution_count": 18,
   "metadata": {},
   "outputs": [],
   "source": [
    "x3 = tb3[\"tmax_rf\"].values\n",
    "y3 = tb3['mag0_abs'].values\n",
    "ey3 = tb3['emag'].values"
   ]
  },
  {
   "cell_type": "code",
   "execution_count": 19,
   "metadata": {},
   "outputs": [],
   "source": [
    "#%matplotlib notebook"
   ]
  },
  {
   "cell_type": "code",
   "execution_count": 20,
   "metadata": {},
   "outputs": [
    {
     "data": {
      "image/png": "[encoded data removed]",
      "text/plain": [
       "<Figure size 432x288 with 1 Axes>"
      ]
     },
     "metadata": {
      "needs_background": "light"
     },
     "output_type": "display_data"
    }
   ],
   "source": [
    "r3 = poly_fit_timescales(x3, y3, ey3, name = \"iPTF16hgs\")"
   ]
  },
  {
   "cell_type": "code",
   "execution_count": 21,
   "metadata": {},
   "outputs": [],
   "source": [
    "r3[\"tau_rise\"] = (81.32 - 69.01) / (1 + 0.017)"
   ]
  },
  {
   "cell_type": "markdown",
   "metadata": {},
   "source": [
    "SN2010X (Kasliwal et al. 2010)"
   ]
  },
  {
   "cell_type": "code",
   "execution_count": 22,
   "metadata": {},
   "outputs": [],
   "source": [
    "tb4 = get_sn2010X() # yes\n",
    "tb4 = tb4[tb4[\"filter\"].values==\"r\"]\n",
    "\n",
    "x4 = tb4[\"tmax_rf\"].values\n",
    "y4 = tb4['mag0_abs'].values\n",
    "ey4 = tb4['emag'].values"
   ]
  },
  {
   "cell_type": "code",
   "execution_count": 23,
   "metadata": {},
   "outputs": [
    {
     "data": {
      "image/png": "[encoded data removed]",
      "text/plain": [
       "<Figure size 432x288 with 1 Axes>"
      ]
     },
     "metadata": {
      "needs_background": "light"
     },
     "output_type": "display_data"
    }
   ],
   "source": [
    "r4 = poly_fit_timescales(x4, y4, ey4, name = \"SN2010X\")"
   ]
  },
  {
   "cell_type": "markdown",
   "metadata": {},
   "source": [
    "SN2019bkc (Chen et al. 2020). Add ZTF $g$-band discovery epoch."
   ]
  },
  {
   "cell_type": "code",
   "execution_count": 24,
   "metadata": {},
   "outputs": [],
   "source": [
    "tb5 = get_sn2019bkc()\n",
    "ix = np.any([tb5[\"filter\"].values=='r', \n",
    "             np.all([tb5[\"filter\"].values=='g', tb5[\"tmax_rf\"].values==min(tb5[\"tmax_rf\"].values)], axis=0)\n",
    "                    ], axis=0)\n",
    "tb5 = tb5[ix]\n",
    "# Add g-band detection\n",
    "tb5 = tb5.sort_values(by=['tmax_rf'])\n",
    "\n",
    "x5 = tb5[\"tmax_rf\"].values\n",
    "y5 = tb5['mag0_abs'].values\n",
    "ey5 = tb5['emag'].values"
   ]
  },
  {
   "cell_type": "code",
   "execution_count": 25,
   "metadata": {},
   "outputs": [
    {
     "data": {
      "image/png": "[encoded data removed]",
      "text/plain": [
       "<Figure size 432x288 with 1 Axes>"
      ]
     },
     "metadata": {
      "needs_background": "light"
     },
     "output_type": "display_data"
    }
   ],
   "source": [
    "r5 = poly_fit_timescales(x5, y5, ey5, name = \"SN2019bkc\")"
   ]
  },
  {
   "cell_type": "markdown",
   "metadata": {},
   "source": [
    "SN2018gep"
   ]
  },
  {
   "cell_type": "code",
   "execution_count": 26,
   "metadata": {},
   "outputs": [],
   "source": [
    "tb6 = get_sn2018gep()\n",
    "tb6 = tb6[tb6[\"filter\"].values==\"r\"]\n",
    "\n",
    "x6 = tb6[\"tmax_rf\"].values\n",
    "y6 = tb6['mag0_abs'].values\n",
    "ey6 = tb6['emag'].values"
   ]
  },
  {
   "cell_type": "code",
   "execution_count": 27,
   "metadata": {},
   "outputs": [
    {
     "data": {
      "text/plain": [
       "(-0.1, 2.5)"
      ]
     },
     "execution_count": 27,
     "metadata": {},
     "output_type": "execute_result"
    },
    {
     "data": {
      "image/png": "[encoded data removed]",
      "text/plain": [
       "<Figure size 432x288 with 1 Axes>"
      ]
     },
     "metadata": {
      "needs_background": "light"
     },
     "output_type": "display_data"
    }
   ],
   "source": [
    "r6 = poly_fit_timescales(x6, y6, ey6, name = 'SN2018gep')\n",
    "plt.ylim(-0.1, 2.5)"
   ]
  },
  {
   "cell_type": "code",
   "execution_count": 28,
   "metadata": {},
   "outputs": [],
   "source": [
    "r6[\"tau_decay\"] = -99"
   ]
  },
  {
   "cell_type": "markdown",
   "metadata": {},
   "source": [
    "SN2018kzr (McBrien et al. 2019)"
   ]
  },
  {
   "cell_type": "code",
   "execution_count": 29,
   "metadata": {},
   "outputs": [],
   "source": [
    "tb7 = get_sn2018kzr()\n",
    "tb7 = tb7[tb7[\"filter\"].values==\"r\"]\n",
    "\n",
    "x7 = tb7[\"tmax_rf\"].values\n",
    "y7 = tb7['mag0_abs'].values\n",
    "ey7 = tb7['emag'].values"
   ]
  },
  {
   "cell_type": "code",
   "execution_count": 30,
   "metadata": {},
   "outputs": [
    {
     "data": {
      "image/png": "[encoded data removed]",
      "text/plain": [
       "<Figure size 432x288 with 1 Axes>"
      ]
     },
     "metadata": {
      "needs_background": "light"
     },
     "output_type": "display_data"
    }
   ],
   "source": [
    "r7 = poly_fit_timescales(x7, y7, ey7, name = 'SN2018kzr')"
   ]
  },
  {
   "cell_type": "markdown",
   "metadata": {},
   "source": [
    "PTF09dav (Sullivan et al 2011)"
   ]
  },
  {
   "cell_type": "code",
   "execution_count": 31,
   "metadata": {},
   "outputs": [],
   "source": [
    "tb8 = get_ptf09dav()\n",
    "x8 = tb8[\"tmax_rf\"].values\n",
    "y8 = tb8['mag0_abs'].values\n",
    "ey8 = tb8['emag'].values"
   ]
  },
  {
   "cell_type": "code",
   "execution_count": 32,
   "metadata": {},
   "outputs": [
    {
     "data": {
      "image/png": "[encoded data removed]",
      "text/plain": [
       "<Figure size 432x288 with 1 Axes>"
      ]
     },
     "metadata": {
      "needs_background": "light"
     },
     "output_type": "display_data"
    }
   ],
   "source": [
    "r8 = poly_fit_timescales(x8, y8, ey8, name = 'PTF09dav')"
   ]
  },
  {
   "cell_type": "markdown",
   "metadata": {},
   "source": [
    "SN2002bj (Poznanski et al. 2010)"
   ]
  },
  {
   "cell_type": "code",
   "execution_count": 33,
   "metadata": {},
   "outputs": [],
   "source": [
    "tb9 = get_sn2002bj()\n",
    "ix = tb9[\"filter\"].values == \"r\"\n",
    "x9 = tb9[\"tmax_rf\"].values[ix]\n",
    "y9 = tb9['mag0_abs'].values[ix]\n",
    "ey9 = tb9['emag'].values[ix]"
   ]
  },
  {
   "cell_type": "code",
   "execution_count": 34,
   "metadata": {},
   "outputs": [
    {
     "data": {
      "image/png": "[encoded data removed]",
      "text/plain": [
       "<Figure size 432x288 with 1 Axes>"
      ]
     },
     "metadata": {
      "needs_background": "light"
     },
     "output_type": "display_data"
    }
   ],
   "source": [
    "r9 = poly_fit_timescales(x9, y9, ey9, name = 'SN2002bj')"
   ]
  },
  {
   "cell_type": "markdown",
   "metadata": {},
   "source": [
    "PTF10iuv (Kasliwal et al. 2012)"
   ]
  },
  {
   "cell_type": "code",
   "execution_count": 35,
   "metadata": {},
   "outputs": [
    {
     "name": "stdout",
     "output_type": "stream",
     "text": [
      "adopt g band t_max estimated by myself\n"
     ]
    }
   ],
   "source": [
    "tb10 = get_ptf10iuv()\n",
    "ix = tb10[\"filter\"].values=='r'\n",
    "tb10 = tb10[ix]\n",
    "x10 = tb10[\"tmax_rf\"].values\n",
    "y10 = tb10['mag0_abs'].values\n",
    "ey10 = tb10['emag'].values"
   ]
  },
  {
   "cell_type": "code",
   "execution_count": 36,
   "metadata": {},
   "outputs": [
    {
     "data": {
      "image/png": "[encoded data removed]",
      "text/plain": [
       "<Figure size 432x288 with 1 Axes>"
      ]
     },
     "metadata": {
      "needs_background": "light"
     },
     "output_type": "display_data"
    }
   ],
   "source": [
    "r10 = poly_fit_timescales(x10, y10, ey10, name = 'PTF10iuv')"
   ]
  },
  {
   "cell_type": "markdown",
   "metadata": {},
   "source": [
    "iPTF16asu (Whitesides et al. 2017)"
   ]
  },
  {
   "cell_type": "code",
   "execution_count": 37,
   "metadata": {},
   "outputs": [],
   "source": [
    "tb11 = get_iPTF16asu()\n",
    "ix = tb11[\"filter\"].values=='g' # but this is rest-frame r-band\n",
    "tb11 = tb11[ix]\n",
    "x11 = tb11[\"tmax_rf\"].values\n",
    "y11 = tb11['mag0_abs'].values\n",
    "ey11 = tb11['emag'].values"
   ]
  },
  {
   "cell_type": "code",
   "execution_count": 38,
   "metadata": {},
   "outputs": [
    {
     "data": {
      "image/png": "[encoded data removed]",
      "text/plain": [
       "<Figure size 432x288 with 1 Axes>"
      ]
     },
     "metadata": {
      "needs_background": "light"
     },
     "output_type": "display_data"
    }
   ],
   "source": [
    "r11 = poly_fit_timescales(x11, y11, ey11, name = 'iPTF16asu')"
   ]
  },
  {
   "cell_type": "code",
   "execution_count": 39,
   "metadata": {},
   "outputs": [],
   "source": [
    "r11[\"tau_decay\"] = -99"
   ]
  },
  {
   "cell_type": "markdown",
   "metadata": {},
   "source": [
    "KSN2015K (Rest et al. 2018)\n",
    "\n",
    "I cannot find the photometric data. But looking at Figure 2 of this paper I get half light rise time is ~1.35 day."
   ]
  },
  {
   "cell_type": "code",
   "execution_count": 40,
   "metadata": {},
   "outputs": [],
   "source": [
    "def add_timescale_circle(r0, ax, ax2):\n",
    "    name = r0[\"name\"]\n",
    "    if name == \"AT2019dge\":\n",
    "        z1 = 2\n",
    "        z2 = 3\n",
    "        ms = 15\n",
    "        marker=\"*\"\n",
    "    else:\n",
    "        z1 = 1\n",
    "        z2 = 2\n",
    "        ms = 6\n",
    "        marker=\"o\"\n",
    "        \n",
    "    color_rise = \"k\"\n",
    "    color_decay = \"k\"\n",
    "    trise = r0[\"tau_rise\"]\n",
    "    tdecay = r0[\"tau_decay\"]\n",
    "    decaylim = r0['tau_decay_lim']\n",
    "    riselim = r0['tau_rise_lim']\n",
    "    Mpeak = r0[\"Mpeak\"]\n",
    "    \n",
    "    xpos = trise + 0.2\n",
    "    xpos2 = tdecay + 0.2\n",
    "    ypos = Mpeak\n",
    "    ypos2 = Mpeak\n",
    "    fontsize = fs\n",
    "    colorr = \"k\"\n",
    "    \n",
    "    if name[:2]==\"SN\" or name[:2]==\"AT\":\n",
    "        tt = name[4:]\n",
    "    elif name[:4] == \"iPTF\" or name[:4]==\"OGLE\":\n",
    "        tt = name[4:]\n",
    "    elif name[:3]==\"PTF\":\n",
    "        tt = name[3:]\n",
    "    else:\n",
    "        tt = name\n",
    "    if tt==\"10X\":\n",
    "        ypos+=0.02\n",
    "    if tt==\"02bj\":\n",
    "        ypos2+=0.02\n",
    "    if tt==\"09dav\":\n",
    "        ypos+=0.05\n",
    "    if tt == \"19dge\":\n",
    "        fontsize+=2\n",
    "        xpos2 -=2.5\n",
    "        xpos -= 2.\n",
    "        ypos += 0.25\n",
    "        colorr = \"r\"\n",
    "        color_rise = \"r\"\n",
    "        color_decay = \"r\"\n",
    "    if tt==\"19bkc\":\n",
    "        ypos2 += 0.1\n",
    "        xpos2 -= 2\n",
    "    if tt==\"05ek\":\n",
    "        ypos2 -= 0.1\n",
    "        xpos2 -= 1\n",
    "    if tt == \"10iuv\":\n",
    "        ypos += 0.12\n",
    "        xpos -= 0.3\n",
    "        ypos2 += 0.13\n",
    "        xpos2 -= 0.7\n",
    "    if trise!=-99 and tt!=\"19bkc\":\n",
    "        if riselim!=True:\n",
    "            ax.plot(trise, Mpeak, marker=marker, markersize = ms, color = color_rise, zorder = z2)\n",
    "        else:\n",
    "            ax.plot(trise, Mpeak, marker=marker, markersize = ms, markerfacecolor = \"white\", color = color_rise, zorder = z2)\n",
    "        ax.text(xpos, ypos+0.05, tt, color=colorr, fontsize = fontsize)\n",
    "    if tdecay!=-99:\n",
    "        if decaylim!=True:\n",
    "            ax2.plot(tdecay, Mpeak, marker=marker, markersize = ms, color = color_decay, zorder = z2)\n",
    "        else:\n",
    "            ax2.plot(tdecay, Mpeak, marker=marker, markersize = ms, markerfacecolor = \"white\", color = color_decay, zorder = z2)\n",
    "        ax2.text(xpos2, ypos2+0.05, tt, color=colorr, fontsize = fontsize)"
   ]
  },
  {
   "cell_type": "code",
   "execution_count": 41,
   "metadata": {},
   "outputs": [],
   "source": [
    "def adjust_comparefig(ax2, isrise = True):\n",
    "    if isrise == True:\n",
    "        ybottom = -15.3\n",
    "        yupper = -20.8\n",
    "        xmin = 0\n",
    "        xmax = 13\n",
    "    else:\n",
    "        ybottom = -15.5\n",
    "        yupper = -19\n",
    "        xmin = 0\n",
    "        xmax = 13\n",
    "    ax2.set_ylim(ybottom, yupper)\n",
    "\n",
    "    ax2.set_xlim(xmin, xmax)\n",
    "    \n",
    "    if isrise == False:\n",
    "        xmajor = 2\n",
    "        xminor = 0.5\n",
    "    else:\n",
    "        xmajor = 2\n",
    "        xminor = 0.5\n",
    "    ax2.xaxis.set_major_locator(plt.MultipleLocator(xmajor))\n",
    "    ax2.xaxis.set_minor_locator(plt.MultipleLocator(xminor))\n",
    "    \n",
    "    if isrise == False:\n",
    "        yminor = 0.1\n",
    "        ymajor = 0.5\n",
    "    else:\n",
    "        yminor = 0.2\n",
    "        ymajor = 1\n",
    "    ax2.yaxis.set_major_locator(plt.MultipleLocator(ymajor))\n",
    "    ax2.yaxis.set_minor_locator(plt.MultipleLocator(yminor))\n",
    "    ax2.tick_params(which = 'major', length = 4, top=True, right=True)\n",
    "    ax2.tick_params(which = 'minor', length = 2, top=True, right=True)\n",
    "    \n",
    "    #ax2.set_ylabel('Peak magnitude ($r$-band)', fontsize=fs)\n",
    "    ax2.set_ylabel(r'$M_{\\rm peak}$'+\" ($r$-band)\", fontsize=fs+2)\n",
    "    if isrise == True:\n",
    "        ax2.set_xlabel(r\"$t_{\\rm rise}$\"+\" (rest-frame days)\", fontsize=fs+1)\n",
    "    else:\n",
    "        ax2.set_xlabel(r\"$t_{\\rm decay}$\"+\" (rest-frame days)\", fontsize=fs+1)"
   ]
  },
  {
   "cell_type": "code",
   "execution_count": 42,
   "metadata": {},
   "outputs": [
    {
     "data": {
      "image/png": "[encoded data removed]",
      "text/plain": [
       "<Figure size 417.6x756 with 2 Axes>"
      ]
     },
     "metadata": {
      "needs_background": "light"
     },
     "output_type": "display_data"
    }
   ],
   "source": [
    "xnum = 5.8\n",
    "ynum = 10.5\n",
    "\n",
    "fig = plt.figure(figsize=(xnum, ynum))\n",
    "ax = plt.subplot(211)\n",
    "ax2 = plt.subplot(212)\n",
    "add_timescale_circle(r0, ax, ax2)\n",
    "\n",
    "# iPTF14gqr 1st peak rise\n",
    "ax.plot(r1['tau_rise'], y1[0], 'o', ms=6, color= \"k\")\n",
    "ax.arrow(r1['tau_rise'], y1[0], -0.8*0.5, 0, color = 'k', zorder = 6, head_width = 0.08, head_length = 0.4*0.5)\n",
    "ax.arrow(r1['tau_rise'], y1[0], 0, -0.8*0.25, color = 'k', zorder = 6, head_width = 0.15, head_length = 0.4*0.25)\n",
    "xoff = 1.2\n",
    "yoff = +0.5\n",
    "ax.text(0.1+xoff, -17.4+yoff, \"14gqr\")\n",
    "ax.text(0.1+xoff, -17.1+yoff, \"(1st peak)\")\n",
    "\n",
    "# iPTF14gqr, 2nd peak decay\n",
    "Mpeak = r1[\"Mpeak\"]\n",
    "ax2.plot(r1['tau_decay'], Mpeak, 'o', ms=4, color= \"k\")\n",
    "ax2.arrow(r1['tau_decay'], Mpeak, 0.8, 0, color = 'k', zorder = 6, head_width = 0.07, head_length = 0.4)\n",
    "ax2.text(r1['tau_decay'], Mpeak-0.1, \"14gqr (2nd peak)\")\n",
    "\n",
    "add_timescale_circle(r2, ax, ax2)\n",
    "\n",
    "# iPTF16hgs 1st peak rise\n",
    "ax.plot(r3[\"tau_rise\"], y3[0], 'o', ms=6, color= \"k\")\n",
    "ax.arrow(r3['tau_rise'], y3[0], -0.8*0.7, 0, color = 'k', zorder = 6, head_width = 0.08, head_length = 0.4*0.7)\n",
    "ax.arrow(r3['tau_rise'], y3[0], 0, -0.8*0.25, color = 'k', zorder = 6, head_width = 0.15, head_length = 0.4*0.25)\n",
    "ax.text(r3[\"tau_rise\"]-4.8, y3[0]-0.1, \"16hgs (1st peak)\")\n",
    "\n",
    "# iPTF16hgs 2nd peak decay\n",
    "Mpeak = r3[\"Mpeak\"]\n",
    "ax2.plot(r3[\"tau_decay\"], Mpeak, 'o', ms=6, color= \"k\")\n",
    "ax2.text(r3[\"tau_decay\"]-5.2, Mpeak, \"16hgs (2nd peak)\")\n",
    "\n",
    "\"\"\"\n",
    "# SN2019ehk, 1st peak rise\n",
    "ax.plot(2.9, -16.36, 'o', ms=6, color= \"k\", zorder = 6)\n",
    "#ax.arrow(2.9, -16.36, 0, -0.8*0.25, color = 'k', zorder = 6, head_width = 0.15, head_length = 0.4*0.25)\n",
    "ax.plot([2.9, 2.9], [-16.36, -17.7], \"k-\", zorder = 6)\n",
    "ax.plot([2.9-0.1, 2.9+0.1], [-17.7, -17.7], \"k-\", zorder = 6)\n",
    "ax.text(3, -16.8, \"19ehk (1st-peak)\")\n",
    "\"\"\"\n",
    "add_timescale_circle(r4, ax, ax2)\n",
    "add_timescale_circle(r5, ax, ax2)\n",
    "add_timescale_circle(r6, ax, ax2)\n",
    "add_timescale_circle(r7, ax, ax2)\n",
    "add_timescale_circle(r8, ax, ax2)\n",
    "add_timescale_circle(r9, ax, ax2)\n",
    "add_timescale_circle(r10, ax, ax2)\n",
    "add_timescale_circle(r11, ax, ax2)\n",
    "\n",
    "# 15K (Rest et al. 2018)\n",
    "ax.plot(1.35, -18.75, 'o', ms=6, color= \"k\")\n",
    "ax.text(1.45, -18.7, \"15K\", color= \"k\")\n",
    "\n",
    "# AT2018cow (Perley et al. 2019)\n",
    "ax.plot(1.5, -19.9, 'o', ms=6, color= \"k\")\n",
    "ax.text(1.65, -19.7, \"18cow\", color= \"k\")\n",
    "\n",
    "# AT2018cow (Perley et al. 2019)\n",
    "ax.plot(1.8, -20.1, 'o', ms=6, color= \"k\")\n",
    "ax.text(1.95, -20.08, \"Koala\", color= \"k\")\n",
    "\n",
    "adjust_comparefig(ax, isrise = True)\n",
    "adjust_comparefig(ax2, isrise = False)\n",
    "plt.tight_layout()\n",
    "plt.savefig(\"../paper/figures/compare_mag.pdf\")\n",
    "#plt.close()"
   ]
  },
  {
   "cell_type": "code",
   "execution_count": null,
   "metadata": {},
   "outputs": [],
   "source": []
  },
  {
   "cell_type": "code",
   "execution_count": null,
   "metadata": {},
   "outputs": [],
   "source": []
  }
 ],
 "metadata": {
  "kernelspec": {
   "display_name": "Python 3",
   "language": "python",
   "name": "python3"
  },
  "language_info": {
   "codemirror_mode": {
    "name": "ipython",
    "version": 3
   },
   "file_extension": ".py",
   "mimetype": "text/x-python",
   "name": "python",
   "nbconvert_exporter": "python",
   "pygments_lexer": "ipython3",
   "version": "3.6.8"
  }
 },
 "nbformat": 4,
 "nbformat_minor": 2
}
